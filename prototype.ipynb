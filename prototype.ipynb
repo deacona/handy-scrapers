{
 "cells": [
  {
   "cell_type": "code",
   "execution_count": 1,
   "id": "27c2c15b-3869-47b5-b1a7-60a65dd73e34",
   "metadata": {},
   "outputs": [],
   "source": [
    "from selenium import webdriver\n",
    "# from selenium.webdriver.firefox.options import Options\n",
    "from selenium.webdriver import FirefoxOptions"
   ]
  },
  {
   "cell_type": "code",
   "execution_count": 2,
   "id": "1ebb74ff-8e52-491f-9b62-12d5aea05603",
   "metadata": {},
   "outputs": [
    {
     "name": "stderr",
     "output_type": "stream",
     "text": [
      "<ipython-input-2-f1d91d9e0996>:6: DeprecationWarning: use options instead of firefox_options\n",
      "  browser = webdriver.Firefox(firefox_options=opts)\n"
     ]
    },
    {
     "data": {
      "text/plain": [
       "selenium.webdriver.firefox.webdriver.WebDriver"
      ]
     },
     "execution_count": 2,
     "metadata": {},
     "output_type": "execute_result"
    }
   ],
   "source": [
    "# profile = webdriver.FirefoxProfile()\n",
    "# options = Options()\n",
    "\n",
    "opts = FirefoxOptions()\n",
    "opts.add_argument(\"--headless\")\n",
    "browser = webdriver.Firefox(firefox_options=opts)\n",
    "type(browser)\n",
    "# browser.capabilities #['version']"
   ]
  },
  {
   "cell_type": "code",
   "execution_count": 3,
   "id": "cd7ac790-1bd0-4ec2-aadf-780b5fb27f34",
   "metadata": {},
   "outputs": [],
   "source": [
    "browser.get(\"http://eloratings.net/2016_European_Championship_start\")"
   ]
  },
  {
   "cell_type": "code",
   "execution_count": 4,
   "id": "29a05fe5-01ca-4b93-873b-96f819334243",
   "metadata": {},
   "outputs": [],
   "source": [
    "main = browser.find_element_by_id(\"maintable_2016_European_Championship_start\")"
   ]
  },
  {
   "cell_type": "code",
   "execution_count": 5,
   "id": "261f623e-947d-4d74-9da2-4968f481f647",
   "metadata": {},
   "outputs": [
    {
     "data": {
      "text/plain": [
       "'Local\\nGlobal\\nTeam\\nRating\\nRank\\nRating\\nRank\\nRating\\nTotal\\nHome\\nAway\\nNeutral\\nWins\\nLosses\\nDraws\\nFor\\nAgainst'"
      ]
     },
     "execution_count": 5,
     "metadata": {},
     "output_type": "execute_result"
    }
   ],
   "source": [
    "# header = main.find_elements_by_class_name(\"slick-header-columns\")[1].text"
   ]
  },
  {
   "cell_type": "code",
   "execution_count": 26,
   "id": "9e1f670d-3896-43d8-8a27-1ba3046bfe0e",
   "metadata": {},
   "outputs": [
    {
     "data": {
      "text/plain": [
       "'Average'"
      ]
     },
     "execution_count": 26,
     "metadata": {},
     "output_type": "execute_result"
    }
   ],
   "source": [
    "# header[0].find_elements_by_tag_name(\"span\")[3].text"
   ]
  },
  {
   "cell_type": "code",
   "execution_count": 27,
   "id": "bf4c2225-edd8-4e36-a2e8-f1afed2041c7",
   "metadata": {},
   "outputs": [
    {
     "data": {
      "text/plain": [
       "17"
      ]
     },
     "execution_count": 27,
     "metadata": {},
     "output_type": "execute_result"
    }
   ],
   "source": [
    "# no_columns = len(header[1].find_elements_by_tag_name(\"span\"))\n",
    "# no_columns"
   ]
  },
  {
   "cell_type": "code",
   "execution_count": 7,
   "id": "f4137299-3bf1-4b53-8c93-1a76139da760",
   "metadata": {},
   "outputs": [
    {
     "data": {
      "text/plain": [
       "['Rank Local',\n",
       " 'Rank Global',\n",
       " 'Team',\n",
       " 'Rating',\n",
       " 'Average Rank',\n",
       " 'Average Rating',\n",
       " '1 Year Change Rank',\n",
       " '1 Year Change Rating',\n",
       " 'Matches Total',\n",
       " 'Matches Home',\n",
       " 'Matches Away',\n",
       " 'Matches Neutral',\n",
       " 'Matches Wins',\n",
       " 'Matches Losses',\n",
       " 'Matches Draws',\n",
       " 'Goals For',\n",
       " 'Goals Against']"
      ]
     },
     "execution_count": 7,
     "metadata": {},
     "output_type": "execute_result"
    }
   ],
   "source": [
    "header = [\"Rank Local\", \"Rank Global\", \n",
    "          \"Team\", \"Rating\", \n",
    "          \"Average Rank\", \"Average Rating\", \n",
    "          \"1 Year Change Rank\", \"1 Year Change Rating\", \n",
    "          \"Matches Total\", \"Matches Home\", \"Matches Away\", \"Matches Neutral\", \n",
    "          \"Matches Wins\", \"Matches Losses\", \"Matches Draws\", \n",
    "          \"Goals For\", \"Goals Against\"]\n",
    "header"
   ]
  },
  {
   "cell_type": "code",
   "execution_count": 36,
   "id": "f5252a9a-d2bb-481e-bb49-2647cab395b4",
   "metadata": {},
   "outputs": [],
   "source": [
    "body = main.find_element_by_class_name(\"grid-canvas\")"
   ]
  },
  {
   "cell_type": "code",
   "execution_count": 38,
   "id": "2d163e78-57a7-4c44-8718-86b2c0bfa888",
   "metadata": {},
   "outputs": [
    {
     "data": {
      "text/plain": [
       "24"
      ]
     },
     "execution_count": 38,
     "metadata": {},
     "output_type": "execute_result"
    }
   ],
   "source": [
    "rows = body.find_elements_by_class_name(\"ui-widget-content\")\n",
    "len(rows)"
   ]
  },
  {
   "cell_type": "code",
   "execution_count": 40,
   "id": "c3b14ce8-1ace-4ac8-a1de-5976f70a223e",
   "metadata": {},
   "outputs": [
    {
     "data": {
      "text/plain": [
       "'1'"
      ]
     },
     "execution_count": 40,
     "metadata": {},
     "output_type": "execute_result"
    }
   ],
   "source": [
    "rows[0].find_elements_by_class_name(\"slick-cell\")[0].text"
   ]
  },
  {
   "cell_type": "code",
   "execution_count": null,
   "id": "46d4c423-8021-45c1-b4db-1af5a4123482",
   "metadata": {},
   "outputs": [],
   "source": []
  },
  {
   "cell_type": "code",
   "execution_count": null,
   "id": "147db50d-22ea-4de3-95f5-646cfebb6ae1",
   "metadata": {},
   "outputs": [],
   "source": []
  },
  {
   "cell_type": "code",
   "execution_count": null,
   "id": "2cd51334-5bc9-4bf4-a09c-6fa3203a3e9a",
   "metadata": {},
   "outputs": [],
   "source": []
  },
  {
   "cell_type": "code",
   "execution_count": 8,
   "id": "099b440a-7dbc-43a5-869b-a8432f460f9f",
   "metadata": {},
   "outputs": [],
   "source": [
    "browser.close()\n",
    "browser.quit()"
   ]
  }
 ],
 "metadata": {
  "kernelspec": {
   "display_name": "Python 3",
   "language": "python",
   "name": "python3"
  },
  "language_info": {
   "codemirror_mode": {
    "name": "ipython",
    "version": 3
   },
   "file_extension": ".py",
   "mimetype": "text/x-python",
   "name": "python",
   "nbconvert_exporter": "python",
   "pygments_lexer": "ipython3",
   "version": "3.8.5"
  }
 },
 "nbformat": 4,
 "nbformat_minor": 5
}
